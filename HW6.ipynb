{
 "cells": [
  {
   "cell_type": "code",
   "execution_count": 10,
   "metadata": {},
   "outputs": [],
   "source": [
    "import numpy as np\n",
    "import matplotlib.pyplot as plt"
   ]
  },
  {
   "cell_type": "code",
   "execution_count": 11,
   "metadata": {},
   "outputs": [
    {
     "name": "stdout",
     "output_type": "stream",
     "text": [
      "[-9.2         0.9         6.46666667]\n",
      "[12.  2.  1.] [12.  2.  1.]\n"
     ]
    }
   ],
   "source": [
    "6.1\n",
    "a = np.array([[1, 2, 3], [4, 0, 6], [7, 8, 9]], float)\n",
    "b = np.array([12, 2, 1], float)\n",
    "x = np.linalg.solve(a, b)\n",
    "print(x)\n",
    "print(np.dot(a, x), b)"
   ]
  },
  {
   "cell_type": "code",
   "execution_count": 12,
   "metadata": {},
   "outputs": [
    {
     "name": "stderr",
     "output_type": "stream",
     "text": [
      "C:\\Users\\vevar_zvj9822\\Anaconda3\\lib\\site-packages\\ipykernel_launcher.py:5: FutureWarning: `rcond` parameter will change to the default of machine precision times ``max(M, N)`` where M and N are the input matrix dimensions.\n",
      "To use the future default and silence this warning we advise to pass `rcond=None`, to keep using the old, explicitly pass `rcond=-1`.\n",
      "  \"\"\"\n"
     ]
    },
    {
     "data": {
      "text/plain": [
       "(array([ 1.13919353, -0.90498444, -0.9009803 ]),\n",
       " array([0.71523211]),\n",
       " 3,\n",
       " array([15.2817306 ,  9.59852942,  3.65197794]))"
      ]
     },
     "execution_count": 12,
     "metadata": {},
     "output_type": "execute_result"
    }
   ],
   "source": [
    "6.2\n",
    "A = np.array([[1, 2, -1], [3, -4, 0], [8, -5, 2], [2, 0, -5], [11, 4, -7]])\n",
    "B = np.array([1, 7, 12, 7, 15])\n",
    "np.linalg.matrix_rank(A, 0.0001)\n",
    "np.linalg.lstsq(A, B)"
   ]
  },
  {
   "cell_type": "code",
   "execution_count": 16,
   "metadata": {},
   "outputs": [
    {
     "name": "stdout",
     "output_type": "stream",
     "text": [
      "[-0.76979505  0.03751835 -0.16349016 -0.21671144  0.21805317]\n",
      "0.8457139653464247\n",
      "1.7020282018815083\n",
      "1.7684739183827392\n"
     ]
    }
   ],
   "source": [
    "x = np.dot(A, [ 1.13919353, -0.90498444, -0.9009803 ]) - B\n",
    "print(x)\n",
    "print(np.linalg.norm(x))\n",
    "print(np.linalg.norm([ 1.13, -0.9, -0.9 ]))\n",
    "print(np.linalg.norm([ 1.15, -0.95, -0.95 ]))"
   ]
  },
  {
   "cell_type": "code",
   "execution_count": 17,
   "metadata": {},
   "outputs": [
    {
     "name": "stdout",
     "output_type": "stream",
     "text": [
      "2\n",
      "3\n",
      "[ 0.  0. -0.]\n",
      "2\n",
      "2\n",
      "[-0.6  4.2 -0.6]\n",
      "[0. 0. 0.]\n",
      "[0. 0. 0.]\n",
      "2\n",
      "2\n"
     ]
    }
   ],
   "source": [
    "6.3\n",
    "A = np.array([[1, 2, 3], [4, 5, 6], [7, 8, 9]], float)\n",
    "B = np.array([2, 5, 1], float)\n",
    "C = np.array([[1, 2, 3, 2], [4, 5, 6, 5], [7, 8, 9, 1]], float)\n",
    "print(np.linalg.matrix_rank(A, 0.0001))\n",
    "print(np.linalg.matrix_rank(C, 0.0001))\n",
    "np.linalg.solve(A, B)\n",
    "B = np.array([0, 0, 0], float)\n",
    "print(np.linalg.solve(A, B))\n",
    "C = np.array([[1, 2, 3, 0], [4, 5, 6, 0], [7, 8, 9, 0]], float)\n",
    "print(np.linalg.matrix_rank(A, 0.0001))\n",
    "print(np.linalg.matrix_rank(C, 0.0001))\n",
    "# Предположим, что решение х = [1, 1, 1]\n",
    "B = np.array([6, 15, 24], float)\n",
    "x = np.linalg.solve(A, B)\n",
    "print(x)\n",
    "print(np.dot(A, x) - B)\n",
    "print(np.dot(A, np.array([1, 1, 1], float)) - B)\n",
    "C =  np.array([[1, 2, 3, 6], [4, 5, 6, 15], [7, 8, 9, 24]], float)\n",
    "print(np.linalg.matrix_rank(A, 0.0001))\n",
    "print(np.linalg.matrix_rank(C, 0.0001))\n"
   ]
  },
  {
   "cell_type": "code",
   "execution_count": 18,
   "metadata": {},
   "outputs": [
    {
     "name": "stdout",
     "output_type": "stream",
     "text": [
      "[[0. 1. 0.]\n",
      " [0. 0. 1.]\n",
      " [1. 0. 0.]]\n",
      "[[ 1.    0.    0.  ]\n",
      " [ 0.25  1.    0.  ]\n",
      " [ 0.5  -0.4   1.  ]]\n",
      "[[  4.    28.    73.  ]\n",
      " [  0.    -5.   -15.25]\n",
      " [  0.     0.   -21.6 ]]\n",
      "[[ 4. 28. 73.]\n",
      " [ 1.  2.  3.]\n",
      " [ 2. 16. 21.]]\n",
      "[[ 4. 28. 73.]\n",
      " [ 1.  2.  3.]\n",
      " [ 2. 16. 21.]]\n",
      "[[0. 0. 0.]\n",
      " [0. 0. 0.]\n",
      " [0. 0. 0.]]\n"
     ]
    }
   ],
   "source": [
    "6.4\n",
    "import scipy \n",
    "import scipy.linalg \n",
    "A = np.array([[ 1,  2,  3],\n",
    "              [ 2, 16, 21],\n",
    "              [ 4, 28, 73]])\n",
    "np.linalg.det(A)\n",
    "\n",
    "A = np.array([[1,  2,  3], \n",
    "              [2, 16, 21],\n",
    "              [4, 28, 73]], float)\n",
    "P, L, U = scipy.linalg.lu(A)\n",
    "print(P)\n",
    "print(L)\n",
    "print(U)\n",
    "print(np.dot(P.transpose(), A))\n",
    "print(np.dot(L, U))\n",
    "print(np.dot(P.transpose(), A) - np.dot(L, U))\n",
    "B = np.array([4, -7, 1])\n",
    "x = np.linalg.solve(A, B)\n",
    "print(x)\n",
    "print(np.linalg.norm(np.dot(A, x) - B))"
   ]
  },
  {
   "cell_type": "code",
   "execution_count": 19,
   "metadata": {},
   "outputs": [
    {
     "name": "stderr",
     "output_type": "stream",
     "text": [
      "C:\\Users\\vevar_zvj9822\\Anaconda3\\lib\\site-packages\\ipykernel_launcher.py:5: FutureWarning: `rcond` parameter will change to the default of machine precision times ``max(M, N)`` where M and N are the input matrix dimensions.\n",
      "To use the future default and silence this warning we advise to pass `rcond=None`, to keep using the old, explicitly pass `rcond=-1`.\n",
      "  \"\"\"\n"
     ]
    },
    {
     "data": {
      "image/png": "[encoded data removed]",
      "text/plain": [
       "<Figure size 432x288 with 1 Axes>"
      ]
     },
     "metadata": {
      "needs_background": "light"
     },
     "output_type": "display_data"
    },
    {
     "name": "stdout",
     "output_type": "stream",
     "text": [
      "[ 1.         12.00000001]\n"
     ]
    }
   ],
   "source": [
    "6.5\n",
    "A = np.array([[1,  2,  -1], \n",
    "              [8, -5, 2]], float)\n",
    "B = np.array([1, 12])\n",
    "np.linalg.lstsq(A, B)\n",
    "def Q(x, y, z):\n",
    "    return (x**2 + y**2 + z**2)\n",
    "\n",
    "x = np.linspace(0, 3, 201)\n",
    "plt.plot(x, Q(x, 10 * x - 14, 21 * x - 29))\n",
    "plt.xlabel('x')\n",
    "plt.ylabel('Q(x)')\n",
    "plt.grid(True)\n",
    "plt.ylim(-100, 1000)\n",
    "plt.plot([1.382,1.382],[-100, 1000], color ='blue', linewidth=0.75, linestyle =\"--\") \n",
    "plt.show()\n",
    "print(np.dot(A, [ 1.38191882, -0.18081181,  0.0202952 ]))\n"
   ]
  },
  {
   "cell_type": "code",
   "execution_count": 21,
   "metadata": {},
   "outputs": [
    {
     "name": "stdout",
     "output_type": "stream",
     "text": [
      "2\n",
      "3\n",
      "[[-0.12309149  0.90453403  0.40824829]\n",
      " [-0.49236596  0.30151134 -0.81649658]\n",
      " [-0.86164044 -0.30151134  0.40824829]]\n",
      "[[-8.12403840e+00 -9.60113630e+00 -1.10782342e+01]\n",
      " [ 0.00000000e+00  9.04534034e-01  1.80906807e+00]\n",
      " [ 0.00000000e+00  0.00000000e+00 -1.11164740e-15]]\n",
      "[[1. 2. 3.]\n",
      " [4. 5. 6.]\n",
      " [7. 8. 9.]]\n",
      "[1.50000000e+00 9.45096256e-15]\n",
      "[1.50000000e+00 9.45096256e-15 0.00000000e+00]\n"
     ]
    },
    {
     "name": "stderr",
     "output_type": "stream",
     "text": [
      "C:\\Users\\vevar_zvj9822\\Anaconda3\\lib\\site-packages\\ipykernel_launcher.py:22: FutureWarning: `rcond` parameter will change to the default of machine precision times ``max(M, N)`` where M and N are the input matrix dimensions.\n",
      "To use the future default and silence this warning we advise to pass `rcond=None`, to keep using the old, explicitly pass `rcond=-1`.\n"
     ]
    },
    {
     "data": {
      "text/plain": [
       "(1.3693063937629153, 1.224744871391589)"
      ]
     },
     "execution_count": 21,
     "metadata": {},
     "output_type": "execute_result"
    }
   ],
   "source": [
    "6.6\n",
    "A = np.array([[1, 2, 3], \n",
    "              [4, 5, 6], \n",
    "              [7, 8, 9]], float)\n",
    "B = np.array([2, 5, 11], float)\n",
    "C =  np.array([[1, 2, 3, 2], [4, 5, 6, 5], [7, 8, 9, 11]], float)\n",
    "print(np.linalg.matrix_rank(A, 0.0001))\n",
    "print(np.linalg.matrix_rank(C, 0.0001))\n",
    "Q, R = np.linalg.qr(A)\n",
    "print(Q)\n",
    "print(R)\n",
    "print(np.dot(Q, R))\n",
    "R1 = R[:2, :2]\n",
    "R1\n",
    "B1 = np.dot(np.transpose(Q), B)[:2]\n",
    "B1\n",
    "X1 = np.linalg.solve(R1, B1)\n",
    "print (X1)\n",
    "X = np.append(X1, 0)\n",
    "print (X)\n",
    "np.linalg.norm(X),  np.linalg.norm(np.dot(A, X) - B)  \n",
    "np.linalg.lstsq(A, B) \n",
    "X = [ 1.25,  0.5 , -0.25]\n",
    "np.linalg.norm(X),  np.linalg.norm(np.dot(A, X) - B) "
   ]
  },
  {
   "cell_type": "code",
   "execution_count": null,
   "metadata": {},
   "outputs": [],
   "source": []
  }
 ],
 "metadata": {
  "kernelspec": {
   "display_name": "Python 3",
   "language": "python",
   "name": "python3"
  },
  "language_info": {
   "codemirror_mode": {
    "name": "ipython",
    "version": 3
   },
   "file_extension": ".py",
   "mimetype": "text/x-python",
   "name": "python",
   "nbconvert_exporter": "python",
   "pygments_lexer": "ipython3",
   "version": "3.7.4"
  }
 },
 "nbformat": 4,
 "nbformat_minor": 2
}
